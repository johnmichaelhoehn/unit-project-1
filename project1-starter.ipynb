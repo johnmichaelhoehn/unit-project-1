{
 "cells": [
  {
   "cell_type": "markdown",
   "metadata": {},
   "source": [
    "# Project 1\n",
    "\n",
    "In this first project you will create a framework to scope out data science projects. This framework will provide you with a guide to develop a well-articulated problem statement and analysis plan that will be robust and reproducible.\n",
    "\n",
    "Let's start with an example problem statement first, and then move on to working with the admission dataset.\n",
    "\n",
    "Complete all questions directly in the Jupyter notebook for your assignment. The first part is to help re-familairize yourself with the major concepts, and teh second part is what you will be evaluated on in the rubric for how well you can apply those concepts to a real dataset."
   ]
  },
  {
   "cell_type": "markdown",
   "metadata": {},
   "source": [
    "### Read and evaluate the following problem statement: \n",
    "Determine which free-tier customers will covert to paying customers, using demographic data collected at signup (age, gender, location, and profession) and customer useage data (days since last log in, and activity score 1 = active user, 0= inactive user) based on Hooli data from Jan-Apr 2015. \n"
   ]
  },
  {
   "cell_type": "markdown",
   "metadata": {},
   "source": [
    "#### 1. What is the outcome?"
   ]
  },
  {
   "cell_type": "markdown",
   "metadata": {},
   "source": [
    "Answer: Whether or not a free-tier customer converts into a paying customer."
   ]
  },
  {
   "cell_type": "markdown",
   "metadata": {},
   "source": [
    "#### 2. What are the predictors/covariates? "
   ]
  },
  {
   "cell_type": "markdown",
   "metadata": {},
   "source": [
    "Answer: Age, gender, location, profession, days since last log in, activity score"
   ]
  },
  {
   "cell_type": "markdown",
   "metadata": {},
   "source": [
    "#### 3. What timeframe is this data relevent for?"
   ]
  },
  {
   "cell_type": "markdown",
   "metadata": {},
   "source": [
    "Answer: January - April 2015"
   ]
  },
  {
   "cell_type": "markdown",
   "metadata": {},
   "source": [
    "#### 4. What is the hypothesi?"
   ]
  },
  {
   "cell_type": "markdown",
   "metadata": {},
   "source": [
    "Answer: Demographic and usage data can determine the liklihood of an individual free-tier customer converting into a paying customer"
   ]
  },
  {
   "cell_type": "markdown",
   "metadata": {},
   "source": [
    "## Let's get started with our dataset"
   ]
  },
  {
   "cell_type": "markdown",
   "metadata": {},
   "source": [
    "#### 1. Create a data dictionary "
   ]
  },
  {
   "cell_type": "markdown",
   "metadata": {},
   "source": [
    "Answer (you should change the entered information in the table to match your admissions data: \n",
    "\n",
    "Variable | Description | Type of Variable\n",
    "---| ---| ---\n",
    "Admit | 0 = not admitted 1 = admitted | categorical\n",
    "GRE | GRE score | continuous \n",
    "GPA | college GPA | continuous \n",
    "Prestige | category of prestige for undergrad school | categorical\n"
   ]
  },
  {
   "cell_type": "markdown",
   "metadata": {},
   "source": [
    "We would like to explore the association between X and Y "
   ]
  },
  {
   "cell_type": "markdown",
   "metadata": {},
   "source": [
    "#### 2. What is the outcome of interest?"
   ]
  },
  {
   "cell_type": "markdown",
   "metadata": {},
   "source": [
    "Answer: Whether or not a student was admitted."
   ]
  },
  {
   "cell_type": "markdown",
   "metadata": {},
   "source": [
    "#### 3. What are the predictors and vairables you want to control for (covariates)? "
   ]
  },
  {
   "cell_type": "markdown",
   "metadata": {},
   "source": [
    "Answer: GRE, GPA, Prestige"
   ]
  },
  {
   "cell_type": "markdown",
   "metadata": {},
   "source": [
    "#### 4. What timeframe is this data relevent for?"
   ]
  },
  {
   "cell_type": "markdown",
   "metadata": {},
   "source": [
    "Answer: Timeframe is not available"
   ]
  },
  {
   "cell_type": "markdown",
   "metadata": {},
   "source": [
    "#### 4. What is the hypothesis?"
   ]
  },
  {
   "cell_type": "markdown",
   "metadata": {},
   "source": [
    "Answer: We can predict an applicants liklihood of being admitted using GRE, GPA, and undergraduate university prestige."
   ]
  },
  {
   "cell_type": "markdown",
   "metadata": {},
   "source": [
    "    Using the above information, write a well-formed problem statement using variables of your choice. \n"
   ]
  },
  {
   "cell_type": "markdown",
   "metadata": {},
   "source": [
    "## Problem Statement"
   ]
  },
  {
   "cell_type": "markdown",
   "metadata": {},
   "source": [
    "The goal of this project is to determine the liklihood with which a given applicant will be admitted into graduate school. We will look at the predictive value of an individuals GPA, GRE score, and prestige of their undergraduate alma mater to assign an admissions-liklihood percentage to applicants. We will use 400 observations from UCLA to build our predictive model. If succesful, this model can determine an initial screening admission liklihood of applicants before applicants are reviewed."
   ]
  },
  {
   "cell_type": "markdown",
   "metadata": {},
   "source": [
    "### Exploratory Analysis Plan"
   ]
  },
  {
   "cell_type": "markdown",
   "metadata": {},
   "source": [
    "Using the lab from a class as a guide, create an exploratory analysis plan. "
   ]
  },
  {
   "cell_type": "markdown",
   "metadata": {},
   "source": [
    "#### 1. What are the goals of the exploratory analysis? "
   ]
  },
  {
   "cell_type": "markdown",
   "metadata": {
    "collapsed": true
   },
   "source": [
    "Answer: To understand the data presented, confirm that it can answer the questions you have, and identify methods or steps necessary to make the data workable. This will include practices such as looking at the distribution of data, exploring the data for missing variables, and finding basic summary statistics of the data."
   ]
  },
  {
   "cell_type": "markdown",
   "metadata": {},
   "source": [
    "#### 2a. How will you examine for and handle the presence of missing data ?"
   ]
  },
  {
   "cell_type": "markdown",
   "metadata": {},
   "source": [
    "Answer: Calling 'isnull()' on the relevant fields can identify missing data (and calling sum() on that can give you a high level count). \n",
    "\n",
    "First, we will determine whether or not we can continue using the given field if it is missing data. If it is determined that we can still use the field, we can fill in the missing data using different methods. Two methods we have explored are using a simply mean of the data that is available or approaches such as nearest neighbor that predict what the missing value would be based on similar individuals."
   ]
  },
  {
   "cell_type": "markdown",
   "metadata": {},
   "source": [
    "#### 2b. How will determine the distribution of your data? "
   ]
  },
  {
   "cell_type": "markdown",
   "metadata": {
    "collapsed": true
   },
   "source": [
    "Answer: One method we have explored is creating and observing a histogram (or historgrams)."
   ]
  },
  {
   "cell_type": "markdown",
   "metadata": {},
   "source": [
    "#### 4b. How will you test for unusually recorded data? "
   ]
  },
  {
   "cell_type": "markdown",
   "metadata": {},
   "source": [
    "Answer: First, we will explore the values for data that should not be possible. Using the admissions data, for example, we will see if there are any observations that should not happen given the rules of the data set forth in the data dictionary. For example, if GPA is said to have a maximum of 4.0, we will check to see if there are values that excede that.\n",
    "\n",
    "Next, we will look to see if there are any outliers. You can identify outliers using either the IQR (Q1 - 1.5 * IQR and Q3 + 1.5 * IQR), finding values more than 3 standard deviations from the mean, or doing the grubb's test."
   ]
  },
  {
   "cell_type": "markdown",
   "metadata": {},
   "source": [
    "#### 5. What is your exploratory analysis plan?\n",
    "Using the above information, write an exploratory analysis plan that would allow you or a colleague to reproduce your analysis 1 year from now. "
   ]
  },
  {
   "cell_type": "markdown",
   "metadata": {},
   "source": [
    "Answer:  \n",
    "\n",
    "1. Identify basic summary statistics of each data field (mean, median, max, min, std dev, and quartile values)\n",
    "2. Clean data and get in format to perform data analysis, checking for:\n",
    "\n",
    "    A. Finding missing data and replace using nearest neighbor\n",
    "    \n",
    "    B. Identify any erroneous values (GPA above 4.0 or below 0, GRE above 340 or below 0, and prestige ranking outside of 1,2,3,or 4) and replace with appropriate value.\n",
    "   \n",
    "    C. Identify any outliers using mean +- 3 std devs\n",
    "3. Observe distribution and skew of each data field using histograms\n",
    "4. Perform inital correlations between each data field and admission result\n",
    "\n",
    "\n",
    "\n",
    "\n"
   ]
  },
  {
   "cell_type": "markdown",
   "metadata": {},
   "source": [
    "## Bonus Questions:\n",
    "1. Write an alternative problem statement for your dataset"
   ]
  },
  {
   "cell_type": "markdown",
   "metadata": {
    "collapsed": true
   },
   "source": [
    "Using GPA, GRE, and undergraduate school prestige, we can identify any anomalously admitted or denied students in graduate school. By looking at the admission results of 400 UCLA applicants, we will build a model which identifies ranges of normal admissions behavior and finds those individuals that fall outside of that normal behavior. This identification will allow for specific followup to find qualitative reasoning for this admission result or addition quanitative fields needed to accurately predict admission results."
   ]
  },
  {
   "cell_type": "code",
   "execution_count": null,
   "metadata": {
    "collapsed": true
   },
   "outputs": [],
   "source": []
  }
 ],
 "metadata": {
  "kernelspec": {
   "display_name": "Python 2",
   "language": "python",
   "name": "python2"
  },
  "language_info": {
   "codemirror_mode": {
    "name": "ipython",
    "version": 2
   },
   "file_extension": ".py",
   "mimetype": "text/x-python",
   "name": "python",
   "nbconvert_exporter": "python",
   "pygments_lexer": "ipython2",
   "version": "2.7.11"
  }
 },
 "nbformat": 4,
 "nbformat_minor": 0
}
